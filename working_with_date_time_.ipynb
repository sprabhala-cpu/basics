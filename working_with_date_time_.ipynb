{
  "nbformat": 4,
  "nbformat_minor": 0,
  "metadata": {
    "colab": {
      "name": "working wiht date time .ipynb",
      "provenance": [],
      "authorship_tag": "ABX9TyPVNvgOXaI75QKAri9ReS7G",
      "include_colab_link": true
    },
    "kernelspec": {
      "name": "python3",
      "display_name": "Python 3"
    },
    "language_info": {
      "name": "python"
    }
  },
  "cells": [
    {
      "cell_type": "markdown",
      "metadata": {
        "id": "view-in-github",
        "colab_type": "text"
      },
      "source": [
        "<a href=\"https://colab.research.google.com/github/sprabhala-cpu/basics/blob/main/working_with_date_time_.ipynb\" target=\"_parent\"><img src=\"https://colab.research.google.com/assets/colab-badge.svg\" alt=\"Open In Colab\"/></a>"
      ]
    },
    {
      "cell_type": "code",
      "metadata": {
        "id": "DFjnzfPG9mhh"
      },
      "source": [
        "import pandas as pd\n",
        "data=pd.read_csv('/content/quakes.csv')"
      ],
      "execution_count": 1,
      "outputs": []
    },
    {
      "cell_type": "code",
      "metadata": {
        "colab": {
          "base_uri": "https://localhost:8080/"
        },
        "id": "yLbD45mX991X",
        "outputId": "7c41d9ac-b2f4-45dd-ca47-52a6ba7323bd"
      },
      "source": [
        "data.head(5)\n",
        "data['time'].dtype"
      ],
      "execution_count": 8,
      "outputs": [
        {
          "output_type": "execute_result",
          "data": {
            "text/plain": [
              "dtype('O')"
            ]
          },
          "metadata": {
            "tags": []
          },
          "execution_count": 8
        }
      ]
    },
    {
      "cell_type": "code",
      "metadata": {
        "id": "3Kloijha9-7C"
      },
      "source": [
        "#convert strings to datetime\n",
        "data['time']=pd.to_datetime(data['time'])\n",
        "#to_datetime is able to parse any valid date string to date time "
      ],
      "execution_count": 9,
      "outputs": []
    },
    {
      "cell_type": "code",
      "metadata": {
        "id": "zQHnczO--s4_"
      },
      "source": [
        "data.info()"
      ],
      "execution_count": null,
      "outputs": []
    },
    {
      "cell_type": "code",
      "metadata": {
        "colab": {
          "base_uri": "https://localhost:8080/",
          "height": 366
        },
        "id": "9ngUb2xk-uId",
        "outputId": "56b3887e-4ffd-4a2b-f024-d65d4e17e286"
      },
      "source": [
        "data.head(5)#by deafult datetime parse string with month first and day later\n",
        "#format is mm/dd or mmdd or mm-dd"
      ],
      "execution_count": 11,
      "outputs": [
        {
          "output_type": "execute_result",
          "data": {
            "text/html": [
              "<div>\n",
              "<style scoped>\n",
              "    .dataframe tbody tr th:only-of-type {\n",
              "        vertical-align: middle;\n",
              "    }\n",
              "\n",
              "    .dataframe tbody tr th {\n",
              "        vertical-align: top;\n",
              "    }\n",
              "\n",
              "    .dataframe thead th {\n",
              "        text-align: right;\n",
              "    }\n",
              "</style>\n",
              "<table border=\"1\" class=\"dataframe\">\n",
              "  <thead>\n",
              "    <tr style=\"text-align: right;\">\n",
              "      <th></th>\n",
              "      <th>time</th>\n",
              "      <th>latitude</th>\n",
              "      <th>longitude</th>\n",
              "      <th>depth</th>\n",
              "      <th>mag</th>\n",
              "      <th>magType</th>\n",
              "      <th>nst</th>\n",
              "      <th>gap</th>\n",
              "      <th>dmin</th>\n",
              "      <th>rms</th>\n",
              "      <th>net</th>\n",
              "      <th>id</th>\n",
              "      <th>updated</th>\n",
              "      <th>place</th>\n",
              "      <th>type</th>\n",
              "      <th>horizontalError</th>\n",
              "      <th>depthError</th>\n",
              "      <th>magError</th>\n",
              "      <th>magNst</th>\n",
              "      <th>status</th>\n",
              "      <th>locationSource</th>\n",
              "      <th>magSource</th>\n",
              "    </tr>\n",
              "  </thead>\n",
              "  <tbody>\n",
              "    <tr>\n",
              "      <th>0</th>\n",
              "      <td>2004-01-01 00:03:08.950000+00:00</td>\n",
              "      <td>-24.582</td>\n",
              "      <td>-179.970</td>\n",
              "      <td>488.9</td>\n",
              "      <td>4.7</td>\n",
              "      <td>mb</td>\n",
              "      <td>42.0</td>\n",
              "      <td>119.2</td>\n",
              "      <td>NaN</td>\n",
              "      <td>0.96</td>\n",
              "      <td>us</td>\n",
              "      <td>usp000cgpf</td>\n",
              "      <td>2014-11-07T01:20:53.041Z</td>\n",
              "      <td>south of the Fiji Islands</td>\n",
              "      <td>earthquake</td>\n",
              "      <td>NaN</td>\n",
              "      <td>20.2</td>\n",
              "      <td>NaN</td>\n",
              "      <td>21.0</td>\n",
              "      <td>reviewed</td>\n",
              "      <td>us</td>\n",
              "      <td>us</td>\n",
              "    </tr>\n",
              "    <tr>\n",
              "      <th>1</th>\n",
              "      <td>2004-01-01 01:41:50.700000+00:00</td>\n",
              "      <td>47.034</td>\n",
              "      <td>154.071</td>\n",
              "      <td>40.0</td>\n",
              "      <td>5.0</td>\n",
              "      <td>mwc</td>\n",
              "      <td>204.0</td>\n",
              "      <td>132.8</td>\n",
              "      <td>NaN</td>\n",
              "      <td>0.84</td>\n",
              "      <td>us</td>\n",
              "      <td>usp000cgpw</td>\n",
              "      <td>2016-11-10T00:22:16.158Z</td>\n",
              "      <td>Kuril Islands</td>\n",
              "      <td>earthquake</td>\n",
              "      <td>NaN</td>\n",
              "      <td>NaN</td>\n",
              "      <td>NaN</td>\n",
              "      <td>NaN</td>\n",
              "      <td>reviewed</td>\n",
              "      <td>us</td>\n",
              "      <td>hrv</td>\n",
              "    </tr>\n",
              "    <tr>\n",
              "      <th>2</th>\n",
              "      <td>2004-01-01 03:15:21.140000+00:00</td>\n",
              "      <td>23.315</td>\n",
              "      <td>121.613</td>\n",
              "      <td>54.5</td>\n",
              "      <td>5.2</td>\n",
              "      <td>mwc</td>\n",
              "      <td>164.0</td>\n",
              "      <td>55.2</td>\n",
              "      <td>NaN</td>\n",
              "      <td>0.91</td>\n",
              "      <td>us</td>\n",
              "      <td>usp000cgq2</td>\n",
              "      <td>2016-11-10T00:22:16.667Z</td>\n",
              "      <td>Taiwan</td>\n",
              "      <td>earthquake</td>\n",
              "      <td>NaN</td>\n",
              "      <td>6.1</td>\n",
              "      <td>NaN</td>\n",
              "      <td>NaN</td>\n",
              "      <td>reviewed</td>\n",
              "      <td>us</td>\n",
              "      <td>hrv</td>\n",
              "    </tr>\n",
              "    <tr>\n",
              "      <th>3</th>\n",
              "      <td>2004-01-01 04:39:12.150000+00:00</td>\n",
              "      <td>-21.476</td>\n",
              "      <td>169.859</td>\n",
              "      <td>10.0</td>\n",
              "      <td>5.5</td>\n",
              "      <td>mwc</td>\n",
              "      <td>102.0</td>\n",
              "      <td>99.6</td>\n",
              "      <td>NaN</td>\n",
              "      <td>0.97</td>\n",
              "      <td>us</td>\n",
              "      <td>usp000cgq5</td>\n",
              "      <td>2016-11-10T00:22:17.161Z</td>\n",
              "      <td>southeast of the Loyalty Islands</td>\n",
              "      <td>earthquake</td>\n",
              "      <td>NaN</td>\n",
              "      <td>NaN</td>\n",
              "      <td>NaN</td>\n",
              "      <td>NaN</td>\n",
              "      <td>reviewed</td>\n",
              "      <td>us</td>\n",
              "      <td>hrv</td>\n",
              "    </tr>\n",
              "    <tr>\n",
              "      <th>4</th>\n",
              "      <td>2004-01-01 05:59:01.120000+00:00</td>\n",
              "      <td>46.999</td>\n",
              "      <td>154.188</td>\n",
              "      <td>44.9</td>\n",
              "      <td>5.2</td>\n",
              "      <td>mwc</td>\n",
              "      <td>233.0</td>\n",
              "      <td>135.3</td>\n",
              "      <td>NaN</td>\n",
              "      <td>0.85</td>\n",
              "      <td>us</td>\n",
              "      <td>usp000cgqd</td>\n",
              "      <td>2016-11-10T00:22:17.649Z</td>\n",
              "      <td>east of the Kuril Islands</td>\n",
              "      <td>earthquake</td>\n",
              "      <td>NaN</td>\n",
              "      <td>10.3</td>\n",
              "      <td>NaN</td>\n",
              "      <td>NaN</td>\n",
              "      <td>reviewed</td>\n",
              "      <td>us</td>\n",
              "      <td>hrv</td>\n",
              "    </tr>\n",
              "  </tbody>\n",
              "</table>\n",
              "</div>"
            ],
            "text/plain": [
              "                              time  latitude  ...  locationSource  magSource\n",
              "0 2004-01-01 00:03:08.950000+00:00   -24.582  ...              us         us\n",
              "1 2004-01-01 01:41:50.700000+00:00    47.034  ...              us        hrv\n",
              "2 2004-01-01 03:15:21.140000+00:00    23.315  ...              us        hrv\n",
              "3 2004-01-01 04:39:12.150000+00:00   -21.476  ...              us        hrv\n",
              "4 2004-01-01 05:59:01.120000+00:00    46.999  ...              us        hrv\n",
              "\n",
              "[5 rows x 22 columns]"
            ]
          },
          "metadata": {
            "tags": []
          },
          "execution_count": 11
        }
      ]
    },
    {
      "cell_type": "code",
      "metadata": {
        "id": "qxn-RqQE-7s8"
      },
      "source": [
        "#some places they stored data in the format of dd-mm\n",
        "#we can specify with date first argument \n",
        "data['time']=pd.to_datetime(data['time'],dayfirst=True)"
      ],
      "execution_count": 14,
      "outputs": []
    },
    {
      "cell_type": "code",
      "metadata": {
        "id": "QNXBAt3c_ZVR"
      },
      "source": [
        "#yyyy-dd-mm h:m:s \n",
        "df = pd.DataFrame({'date': ['2016-6-10 20:30:0', \n",
        "                            '2016-7-1 19:45:30', \n",
        "                            '2016-10-12 4:5:1'],\n",
        "                   'value': [2, 3, 4]})"
      ],
      "execution_count": 18,
      "outputs": []
    },
    {
      "cell_type": "code",
      "metadata": {
        "id": "Na1rHQWK_4dn"
      },
      "source": [
        "df['date']=pd.to_datetime(df['date'],format='%Y-%d-%m %H:%M:%S')"
      ],
      "execution_count": 22,
      "outputs": []
    },
    {
      "cell_type": "code",
      "metadata": {
        "id": "8TTki0Vp__o3"
      },
      "source": [
        "df.drop('data',axis=1,inplace=True)"
      ],
      "execution_count": 28,
      "outputs": []
    },
    {
      "cell_type": "code",
      "metadata": {
        "colab": {
          "base_uri": "https://localhost:8080/",
          "height": 136
        },
        "id": "NvZWom5mAO4g",
        "outputId": "aeafa416-a803-44bc-be50-82c860c7bc09"
      },
      "source": [
        "df\n"
      ],
      "execution_count": 29,
      "outputs": [
        {
          "output_type": "execute_result",
          "data": {
            "text/html": [
              "<div>\n",
              "<style scoped>\n",
              "    .dataframe tbody tr th:only-of-type {\n",
              "        vertical-align: middle;\n",
              "    }\n",
              "\n",
              "    .dataframe tbody tr th {\n",
              "        vertical-align: top;\n",
              "    }\n",
              "\n",
              "    .dataframe thead th {\n",
              "        text-align: right;\n",
              "    }\n",
              "</style>\n",
              "<table border=\"1\" class=\"dataframe\">\n",
              "  <thead>\n",
              "    <tr style=\"text-align: right;\">\n",
              "      <th></th>\n",
              "      <th>date</th>\n",
              "      <th>value</th>\n",
              "    </tr>\n",
              "  </thead>\n",
              "  <tbody>\n",
              "    <tr>\n",
              "      <th>0</th>\n",
              "      <td>2016-10-06 20:30:00</td>\n",
              "      <td>2</td>\n",
              "    </tr>\n",
              "    <tr>\n",
              "      <th>1</th>\n",
              "      <td>2016-01-07 19:45:30</td>\n",
              "      <td>3</td>\n",
              "    </tr>\n",
              "    <tr>\n",
              "      <th>2</th>\n",
              "      <td>2016-12-10 04:05:01</td>\n",
              "      <td>4</td>\n",
              "    </tr>\n",
              "  </tbody>\n",
              "</table>\n",
              "</div>"
            ],
            "text/plain": [
              "                 date  value\n",
              "0 2016-10-06 20:30:00      2\n",
              "1 2016-01-07 19:45:30      3\n",
              "2 2016-12-10 04:05:01      4"
            ]
          },
          "metadata": {
            "tags": []
          },
          "execution_count": 29
        }
      ]
    },
    {
      "cell_type": "code",
      "metadata": {
        "id": "Km1nvTgTAcRY"
      },
      "source": [
        "#spped up parsing with infer_datetime_format\n",
        "df=pd.DataFrame({'date':['3/11/2000', '3/12/2000', '3/13/2000']*1000})"
      ],
      "execution_count": 35,
      "outputs": []
    },
    {
      "cell_type": "code",
      "metadata": {
        "colab": {
          "base_uri": "https://localhost:8080/"
        },
        "id": "AVQ2jaL9A4Sd",
        "outputId": "ae0c17cb-abd3-4c09-a379-8371de52c56f"
      },
      "source": [
        "%timeit pd.to_datetime(df['date'],infer_datetime_format=True)"
      ],
      "execution_count": 36,
      "outputs": [
        {
          "output_type": "stream",
          "text": [
            "The slowest run took 7.48 times longer than the fastest. This could mean that an intermediate result is being cached.\n",
            "1000 loops, best of 5: 1.62 ms per loop\n"
          ],
          "name": "stdout"
        }
      ]
    },
    {
      "cell_type": "code",
      "metadata": {
        "id": "-wONaOSIBEIk"
      },
      "source": [
        "#handling parsing erros\n",
        "\n",
        "df = pd.DataFrame({'date': ['2016-6-10 20:30:0', \n",
        "                            '2016-7-1 19:30:5', \n",
        "                            'a-10-12 4:5:1'],\n",
        "                   'value': [2, 3, 4]})"
      ],
      "execution_count": 62,
      "outputs": []
    },
    {
      "cell_type": "code",
      "metadata": {
        "id": "M_M-Q86LBpYB"
      },
      "source": [
        "df['date']=pd.to_datetime(df['date'],errors='coerce')"
      ],
      "execution_count": 63,
      "outputs": []
    },
    {
      "cell_type": "code",
      "metadata": {
        "colab": {
          "base_uri": "https://localhost:8080/",
          "height": 136
        },
        "id": "69FJTK41BtXC",
        "outputId": "c860e8d4-b2ab-4e85-c9c6-9fb052445bbc"
      },
      "source": [
        "df"
      ],
      "execution_count": 64,
      "outputs": [
        {
          "output_type": "execute_result",
          "data": {
            "text/html": [
              "<div>\n",
              "<style scoped>\n",
              "    .dataframe tbody tr th:only-of-type {\n",
              "        vertical-align: middle;\n",
              "    }\n",
              "\n",
              "    .dataframe tbody tr th {\n",
              "        vertical-align: top;\n",
              "    }\n",
              "\n",
              "    .dataframe thead th {\n",
              "        text-align: right;\n",
              "    }\n",
              "</style>\n",
              "<table border=\"1\" class=\"dataframe\">\n",
              "  <thead>\n",
              "    <tr style=\"text-align: right;\">\n",
              "      <th></th>\n",
              "      <th>date</th>\n",
              "      <th>value</th>\n",
              "    </tr>\n",
              "  </thead>\n",
              "  <tbody>\n",
              "    <tr>\n",
              "      <th>0</th>\n",
              "      <td>2016-06-10 20:30:00</td>\n",
              "      <td>2</td>\n",
              "    </tr>\n",
              "    <tr>\n",
              "      <th>1</th>\n",
              "      <td>2016-07-01 19:30:05</td>\n",
              "      <td>3</td>\n",
              "    </tr>\n",
              "    <tr>\n",
              "      <th>2</th>\n",
              "      <td>NaT</td>\n",
              "      <td>4</td>\n",
              "    </tr>\n",
              "  </tbody>\n",
              "</table>\n",
              "</div>"
            ],
            "text/plain": [
              "                 date  value\n",
              "0 2016-06-10 20:30:00      2\n",
              "1 2016-07-01 19:30:05      3\n",
              "2                 NaT      4"
            ]
          },
          "metadata": {
            "tags": []
          },
          "execution_count": 64
        }
      ]
    },
    {
      "cell_type": "code",
      "metadata": {
        "id": "4vbCi4HeB9Vd"
      },
      "source": [
        "df = pd.DataFrame({'date': ['3/10/2000', 'a/11/2000', '3/12/2000'],\n",
        "                   'value': [2, 3, 4]})\n",
        "df['date'] = pd.to_datetime(df['date'],errors='coerce')"
      ],
      "execution_count": 57,
      "outputs": []
    },
    {
      "cell_type": "code",
      "metadata": {
        "colab": {
          "base_uri": "https://localhost:8080/",
          "height": 136
        },
        "id": "3CpSi0gkCTMs",
        "outputId": "23645f5f-ba18-4f41-f40a-0b5c99d64af1"
      },
      "source": [
        "df"
      ],
      "execution_count": 59,
      "outputs": [
        {
          "output_type": "execute_result",
          "data": {
            "text/html": [
              "<div>\n",
              "<style scoped>\n",
              "    .dataframe tbody tr th:only-of-type {\n",
              "        vertical-align: middle;\n",
              "    }\n",
              "\n",
              "    .dataframe tbody tr th {\n",
              "        vertical-align: top;\n",
              "    }\n",
              "\n",
              "    .dataframe thead th {\n",
              "        text-align: right;\n",
              "    }\n",
              "</style>\n",
              "<table border=\"1\" class=\"dataframe\">\n",
              "  <thead>\n",
              "    <tr style=\"text-align: right;\">\n",
              "      <th></th>\n",
              "      <th>date</th>\n",
              "      <th>value</th>\n",
              "    </tr>\n",
              "  </thead>\n",
              "  <tbody>\n",
              "    <tr>\n",
              "      <th>0</th>\n",
              "      <td>2000-03-10</td>\n",
              "      <td>2</td>\n",
              "    </tr>\n",
              "    <tr>\n",
              "      <th>1</th>\n",
              "      <td>NaT</td>\n",
              "      <td>3</td>\n",
              "    </tr>\n",
              "    <tr>\n",
              "      <th>2</th>\n",
              "      <td>2000-03-12</td>\n",
              "      <td>4</td>\n",
              "    </tr>\n",
              "  </tbody>\n",
              "</table>\n",
              "</div>"
            ],
            "text/plain": [
              "        date  value\n",
              "0 2000-03-10      2\n",
              "1        NaT      3\n",
              "2 2000-03-12      4"
            ]
          },
          "metadata": {
            "tags": []
          },
          "execution_count": 59
        }
      ]
    },
    {
      "cell_type": "code",
      "metadata": {
        "id": "Oocjaj4KCYS0"
      },
      "source": [
        "#pd.read_csv( parse_dates=)this can be used also"
      ],
      "execution_count": 65,
      "outputs": []
    },
    {
      "cell_type": "code",
      "metadata": {
        "id": "ynDJBXWPFOYo"
      },
      "source": [
        "#assemble a date time from multiple columns\n",
        "df=pd.DataFrame({'year':[2028,2029],\n",
        "                 'day':[3,4],\n",
        "                 'month':[2,3]})"
      ],
      "execution_count": 74,
      "outputs": []
    },
    {
      "cell_type": "code",
      "metadata": {
        "id": "e2rLy2dIFnjl"
      },
      "source": [
        "df['date']=pd.to_datetime(df)"
      ],
      "execution_count": 75,
      "outputs": []
    },
    {
      "cell_type": "code",
      "metadata": {
        "colab": {
          "base_uri": "https://localhost:8080/",
          "height": 106
        },
        "id": "vRTFRRFMFpyl",
        "outputId": "86e1291c-c473-43cd-b316-1bc903b12732"
      },
      "source": [
        "df"
      ],
      "execution_count": 76,
      "outputs": [
        {
          "output_type": "execute_result",
          "data": {
            "text/html": [
              "<div>\n",
              "<style scoped>\n",
              "    .dataframe tbody tr th:only-of-type {\n",
              "        vertical-align: middle;\n",
              "    }\n",
              "\n",
              "    .dataframe tbody tr th {\n",
              "        vertical-align: top;\n",
              "    }\n",
              "\n",
              "    .dataframe thead th {\n",
              "        text-align: right;\n",
              "    }\n",
              "</style>\n",
              "<table border=\"1\" class=\"dataframe\">\n",
              "  <thead>\n",
              "    <tr style=\"text-align: right;\">\n",
              "      <th></th>\n",
              "      <th>year</th>\n",
              "      <th>day</th>\n",
              "      <th>month</th>\n",
              "      <th>date</th>\n",
              "    </tr>\n",
              "  </thead>\n",
              "  <tbody>\n",
              "    <tr>\n",
              "      <th>0</th>\n",
              "      <td>2028</td>\n",
              "      <td>3</td>\n",
              "      <td>2</td>\n",
              "      <td>2028-02-03</td>\n",
              "    </tr>\n",
              "    <tr>\n",
              "      <th>1</th>\n",
              "      <td>2029</td>\n",
              "      <td>4</td>\n",
              "      <td>3</td>\n",
              "      <td>2029-03-04</td>\n",
              "    </tr>\n",
              "  </tbody>\n",
              "</table>\n",
              "</div>"
            ],
            "text/plain": [
              "   year  day  month       date\n",
              "0  2028    3      2 2028-02-03\n",
              "1  2029    4      3 2029-03-04"
            ]
          },
          "metadata": {
            "tags": []
          },
          "execution_count": 76
        }
      ]
    },
    {
      "cell_type": "code",
      "metadata": {
        "colab": {
          "base_uri": "https://localhost:8080/",
          "height": 52
        },
        "id": "4oif1JsuFv8q",
        "outputId": "8d2b6982-cdd8-434a-ae53-63efecc00158"
      },
      "source": [
        "#get year,monthand day\n",
        "'''dt.year,dt.month,dt.day are inbuilt attributrs to get year,month and day\n",
        "frp, datetime object'''\n"
      ],
      "execution_count": 77,
      "outputs": [
        {
          "output_type": "execute_result",
          "data": {
            "application/vnd.google.colaboratory.intrinsic+json": {
              "type": "string"
            },
            "text/plain": [
              "'dt.year,dt.month,dt.day are inbuilt attributrs to get year,month and day\\nfrp, datetime object'"
            ]
          },
          "metadata": {
            "tags": []
          },
          "execution_count": 77
        }
      ]
    },
    {
      "cell_type": "code",
      "metadata": {
        "colab": {
          "base_uri": "https://localhost:8080/"
        },
        "id": "xsXVk9otGOJx",
        "outputId": "c54e05e7-5a6e-4c28-dc02-7088a1f31ca3"
      },
      "source": [
        "df.info()"
      ],
      "execution_count": 78,
      "outputs": [
        {
          "output_type": "stream",
          "text": [
            "<class 'pandas.core.frame.DataFrame'>\n",
            "RangeIndex: 2 entries, 0 to 1\n",
            "Data columns (total 4 columns):\n",
            " #   Column  Non-Null Count  Dtype         \n",
            "---  ------  --------------  -----         \n",
            " 0   year    2 non-null      int64         \n",
            " 1   day     2 non-null      int64         \n",
            " 2   month   2 non-null      int64         \n",
            " 3   date    2 non-null      datetime64[ns]\n",
            "dtypes: datetime64[ns](1), int64(3)\n",
            "memory usage: 192.0 bytes\n"
          ],
          "name": "stdout"
        }
      ]
    },
    {
      "cell_type": "code",
      "metadata": {
        "id": "-O5WKuQhGPPE"
      },
      "source": [
        "df = pd.DataFrame({'name': ['Tom', 'Andy', 'Lucas'],\n",
        "                 'DoB': ['08-05-1997', '04-28-1996', '12-16-1995']})\n",
        "df['DoB'] = pd.to_datetime(df['DoB'])"
      ],
      "execution_count": 82,
      "outputs": []
    },
    {
      "cell_type": "code",
      "metadata": {
        "id": "sgqrVDmsGTPu"
      },
      "source": [
        "df['year']=df['DoB'].dt.year\n",
        "df['month']=df['DoB'].dt.month\n",
        "df['day']=df['DoB'].dt.day"
      ],
      "execution_count": 84,
      "outputs": []
    },
    {
      "cell_type": "code",
      "metadata": {
        "colab": {
          "base_uri": "https://localhost:8080/",
          "height": 136
        },
        "id": "UMCSfyq-GeHO",
        "outputId": "7ed9a50d-9cfd-4143-df73-0d2d685722ff"
      },
      "source": [
        "df"
      ],
      "execution_count": 85,
      "outputs": [
        {
          "output_type": "execute_result",
          "data": {
            "text/html": [
              "<div>\n",
              "<style scoped>\n",
              "    .dataframe tbody tr th:only-of-type {\n",
              "        vertical-align: middle;\n",
              "    }\n",
              "\n",
              "    .dataframe tbody tr th {\n",
              "        vertical-align: top;\n",
              "    }\n",
              "\n",
              "    .dataframe thead th {\n",
              "        text-align: right;\n",
              "    }\n",
              "</style>\n",
              "<table border=\"1\" class=\"dataframe\">\n",
              "  <thead>\n",
              "    <tr style=\"text-align: right;\">\n",
              "      <th></th>\n",
              "      <th>name</th>\n",
              "      <th>DoB</th>\n",
              "      <th>year</th>\n",
              "      <th>month</th>\n",
              "      <th>day</th>\n",
              "    </tr>\n",
              "  </thead>\n",
              "  <tbody>\n",
              "    <tr>\n",
              "      <th>0</th>\n",
              "      <td>Tom</td>\n",
              "      <td>1997-08-05</td>\n",
              "      <td>1997</td>\n",
              "      <td>8</td>\n",
              "      <td>5</td>\n",
              "    </tr>\n",
              "    <tr>\n",
              "      <th>1</th>\n",
              "      <td>Andy</td>\n",
              "      <td>1996-04-28</td>\n",
              "      <td>1996</td>\n",
              "      <td>4</td>\n",
              "      <td>28</td>\n",
              "    </tr>\n",
              "    <tr>\n",
              "      <th>2</th>\n",
              "      <td>Lucas</td>\n",
              "      <td>1995-12-16</td>\n",
              "      <td>1995</td>\n",
              "      <td>12</td>\n",
              "      <td>16</td>\n",
              "    </tr>\n",
              "  </tbody>\n",
              "</table>\n",
              "</div>"
            ],
            "text/plain": [
              "    name        DoB  year  month  day\n",
              "0    Tom 1997-08-05  1997      8    5\n",
              "1   Andy 1996-04-28  1996      4   28\n",
              "2  Lucas 1995-12-16  1995     12   16"
            ]
          },
          "metadata": {
            "tags": []
          },
          "execution_count": 85
        }
      ]
    },
    {
      "cell_type": "code",
      "metadata": {
        "id": "1Df9-_CbGn9t"
      },
      "source": [
        "#get week of year, the day of week and leap year\n",
        "#similary dt.week,dt.dayofweek and dt.is_leap_year\n"
      ],
      "execution_count": 86,
      "outputs": []
    },
    {
      "cell_type": "code",
      "metadata": {
        "colab": {
          "base_uri": "https://localhost:8080/"
        },
        "id": "42Tdna2FG411",
        "outputId": "c22a7bf2-f6d3-4ce5-b585-dcc5cad12d39"
      },
      "source": [
        "df['week']=df['DoB'].dt.week\n",
        "df['day_of_week']=df['DoB'].dt.dayofweek\n",
        "df['leapyear']=df['DoB'].dt.is_leap_year"
      ],
      "execution_count": 91,
      "outputs": [
        {
          "output_type": "stream",
          "text": [
            "/usr/local/lib/python3.7/dist-packages/ipykernel_launcher.py:1: FutureWarning: Series.dt.weekofyear and Series.dt.week have been deprecated.  Please use Series.dt.isocalendar().week instead.\n",
            "  \"\"\"Entry point for launching an IPython kernel.\n"
          ],
          "name": "stderr"
        }
      ]
    },
    {
      "cell_type": "code",
      "metadata": {
        "colab": {
          "base_uri": "https://localhost:8080/",
          "height": 136
        },
        "id": "P35XE2nVG5P1",
        "outputId": "efb1a591-bf95-4fe3-f87a-4210e01cd0a4"
      },
      "source": [
        "df"
      ],
      "execution_count": 92,
      "outputs": [
        {
          "output_type": "execute_result",
          "data": {
            "text/html": [
              "<div>\n",
              "<style scoped>\n",
              "    .dataframe tbody tr th:only-of-type {\n",
              "        vertical-align: middle;\n",
              "    }\n",
              "\n",
              "    .dataframe tbody tr th {\n",
              "        vertical-align: top;\n",
              "    }\n",
              "\n",
              "    .dataframe thead th {\n",
              "        text-align: right;\n",
              "    }\n",
              "</style>\n",
              "<table border=\"1\" class=\"dataframe\">\n",
              "  <thead>\n",
              "    <tr style=\"text-align: right;\">\n",
              "      <th></th>\n",
              "      <th>name</th>\n",
              "      <th>DoB</th>\n",
              "      <th>year</th>\n",
              "      <th>month</th>\n",
              "      <th>day</th>\n",
              "      <th>week</th>\n",
              "      <th>day_of_week</th>\n",
              "      <th>leapyear</th>\n",
              "    </tr>\n",
              "  </thead>\n",
              "  <tbody>\n",
              "    <tr>\n",
              "      <th>0</th>\n",
              "      <td>Tom</td>\n",
              "      <td>1997-08-05</td>\n",
              "      <td>1997</td>\n",
              "      <td>8</td>\n",
              "      <td>5</td>\n",
              "      <td>32</td>\n",
              "      <td>1</td>\n",
              "      <td>False</td>\n",
              "    </tr>\n",
              "    <tr>\n",
              "      <th>1</th>\n",
              "      <td>Andy</td>\n",
              "      <td>1996-04-28</td>\n",
              "      <td>1996</td>\n",
              "      <td>4</td>\n",
              "      <td>28</td>\n",
              "      <td>17</td>\n",
              "      <td>6</td>\n",
              "      <td>True</td>\n",
              "    </tr>\n",
              "    <tr>\n",
              "      <th>2</th>\n",
              "      <td>Lucas</td>\n",
              "      <td>1995-12-16</td>\n",
              "      <td>1995</td>\n",
              "      <td>12</td>\n",
              "      <td>16</td>\n",
              "      <td>50</td>\n",
              "      <td>5</td>\n",
              "      <td>False</td>\n",
              "    </tr>\n",
              "  </tbody>\n",
              "</table>\n",
              "</div>"
            ],
            "text/plain": [
              "    name        DoB  year  month  day  week  day_of_week  leapyear\n",
              "0    Tom 1997-08-05  1997      8    5    32            1     False\n",
              "1   Andy 1996-04-28  1996      4   28    17            6      True\n",
              "2  Lucas 1995-12-16  1995     12   16    50            5     False"
            ]
          },
          "metadata": {
            "tags": []
          },
          "execution_count": 92
        }
      ]
    },
    {
      "cell_type": "code",
      "metadata": {
        "id": "QUsPaf3xHQBc"
      },
      "source": [
        "'''not the pandas dt.dayofweek starts at 0 monday and ends at 6 sunday'''\n",
        "#create a mapping\n",
        "dw_mapping={\n",
        "    0:'Monday',\n",
        "    1:'tuesday',\n",
        "    2:'wednesday',\n",
        "    3:'thursday',\n",
        "    4:'friday',\n",
        "    5:'saturday',\n",
        "    6:'sunday'\n",
        "}"
      ],
      "execution_count": 93,
      "outputs": []
    },
    {
      "cell_type": "code",
      "metadata": {
        "id": "ku7OfD2jHzMB"
      },
      "source": [
        "df['day_of_week']=df['DoB'].dt.dayofweek.map(dw_mapping)"
      ],
      "execution_count": 94,
      "outputs": []
    },
    {
      "cell_type": "code",
      "metadata": {
        "colab": {
          "base_uri": "https://localhost:8080/",
          "height": 136
        },
        "id": "qHLhQex4H5VG",
        "outputId": "f5660d85-b549-4066-9be5-b00d94af3361"
      },
      "source": [
        "df"
      ],
      "execution_count": 95,
      "outputs": [
        {
          "output_type": "execute_result",
          "data": {
            "text/html": [
              "<div>\n",
              "<style scoped>\n",
              "    .dataframe tbody tr th:only-of-type {\n",
              "        vertical-align: middle;\n",
              "    }\n",
              "\n",
              "    .dataframe tbody tr th {\n",
              "        vertical-align: top;\n",
              "    }\n",
              "\n",
              "    .dataframe thead th {\n",
              "        text-align: right;\n",
              "    }\n",
              "</style>\n",
              "<table border=\"1\" class=\"dataframe\">\n",
              "  <thead>\n",
              "    <tr style=\"text-align: right;\">\n",
              "      <th></th>\n",
              "      <th>name</th>\n",
              "      <th>DoB</th>\n",
              "      <th>year</th>\n",
              "      <th>month</th>\n",
              "      <th>day</th>\n",
              "      <th>week</th>\n",
              "      <th>day_of_week</th>\n",
              "      <th>leapyear</th>\n",
              "    </tr>\n",
              "  </thead>\n",
              "  <tbody>\n",
              "    <tr>\n",
              "      <th>0</th>\n",
              "      <td>Tom</td>\n",
              "      <td>1997-08-05</td>\n",
              "      <td>1997</td>\n",
              "      <td>8</td>\n",
              "      <td>5</td>\n",
              "      <td>32</td>\n",
              "      <td>tuesday</td>\n",
              "      <td>False</td>\n",
              "    </tr>\n",
              "    <tr>\n",
              "      <th>1</th>\n",
              "      <td>Andy</td>\n",
              "      <td>1996-04-28</td>\n",
              "      <td>1996</td>\n",
              "      <td>4</td>\n",
              "      <td>28</td>\n",
              "      <td>17</td>\n",
              "      <td>sunday</td>\n",
              "      <td>True</td>\n",
              "    </tr>\n",
              "    <tr>\n",
              "      <th>2</th>\n",
              "      <td>Lucas</td>\n",
              "      <td>1995-12-16</td>\n",
              "      <td>1995</td>\n",
              "      <td>12</td>\n",
              "      <td>16</td>\n",
              "      <td>50</td>\n",
              "      <td>saturday</td>\n",
              "      <td>False</td>\n",
              "    </tr>\n",
              "  </tbody>\n",
              "</table>\n",
              "</div>"
            ],
            "text/plain": [
              "    name        DoB  year  month  day  week day_of_week  leapyear\n",
              "0    Tom 1997-08-05  1997      8    5    32     tuesday     False\n",
              "1   Andy 1996-04-28  1996      4   28    17      sunday      True\n",
              "2  Lucas 1995-12-16  1995     12   16    50    saturday     False"
            ]
          },
          "metadata": {
            "tags": []
          },
          "execution_count": 95
        }
      ]
    },
    {
      "cell_type": "code",
      "metadata": {
        "id": "VSUSulE0H6G0"
      },
      "source": [
        "today=pd.to_datetime('today')"
      ],
      "execution_count": 98,
      "outputs": []
    },
    {
      "cell_type": "code",
      "metadata": {
        "colab": {
          "base_uri": "https://localhost:8080/"
        },
        "id": "a8PUL-eTH_MC",
        "outputId": "27c855a0-3fd1-4a28-8367-c357df0e5132"
      },
      "source": [
        "today"
      ],
      "execution_count": 99,
      "outputs": [
        {
          "output_type": "execute_result",
          "data": {
            "text/plain": [
              "Timestamp('2021-05-13 09:48:18.780730')"
            ]
          },
          "metadata": {
            "tags": []
          },
          "execution_count": 99
        }
      ]
    },
    {
      "cell_type": "code",
      "metadata": {
        "id": "UFKbMtbHIIRt"
      },
      "source": [
        "df['age']=today.year-df['DoB'].dt.year"
      ],
      "execution_count": 100,
      "outputs": []
    },
    {
      "cell_type": "code",
      "metadata": {
        "colab": {
          "base_uri": "https://localhost:8080/",
          "height": 136
        },
        "id": "NzwDNdITIU9_",
        "outputId": "a5ca8d99-93a7-49e0-e871-a1994e17f046"
      },
      "source": [
        "df"
      ],
      "execution_count": 101,
      "outputs": [
        {
          "output_type": "execute_result",
          "data": {
            "text/html": [
              "<div>\n",
              "<style scoped>\n",
              "    .dataframe tbody tr th:only-of-type {\n",
              "        vertical-align: middle;\n",
              "    }\n",
              "\n",
              "    .dataframe tbody tr th {\n",
              "        vertical-align: top;\n",
              "    }\n",
              "\n",
              "    .dataframe thead th {\n",
              "        text-align: right;\n",
              "    }\n",
              "</style>\n",
              "<table border=\"1\" class=\"dataframe\">\n",
              "  <thead>\n",
              "    <tr style=\"text-align: right;\">\n",
              "      <th></th>\n",
              "      <th>name</th>\n",
              "      <th>DoB</th>\n",
              "      <th>year</th>\n",
              "      <th>month</th>\n",
              "      <th>day</th>\n",
              "      <th>week</th>\n",
              "      <th>day_of_week</th>\n",
              "      <th>leapyear</th>\n",
              "      <th>age</th>\n",
              "    </tr>\n",
              "  </thead>\n",
              "  <tbody>\n",
              "    <tr>\n",
              "      <th>0</th>\n",
              "      <td>Tom</td>\n",
              "      <td>1997-08-05</td>\n",
              "      <td>1997</td>\n",
              "      <td>8</td>\n",
              "      <td>5</td>\n",
              "      <td>32</td>\n",
              "      <td>tuesday</td>\n",
              "      <td>False</td>\n",
              "      <td>24</td>\n",
              "    </tr>\n",
              "    <tr>\n",
              "      <th>1</th>\n",
              "      <td>Andy</td>\n",
              "      <td>1996-04-28</td>\n",
              "      <td>1996</td>\n",
              "      <td>4</td>\n",
              "      <td>28</td>\n",
              "      <td>17</td>\n",
              "      <td>sunday</td>\n",
              "      <td>True</td>\n",
              "      <td>25</td>\n",
              "    </tr>\n",
              "    <tr>\n",
              "      <th>2</th>\n",
              "      <td>Lucas</td>\n",
              "      <td>1995-12-16</td>\n",
              "      <td>1995</td>\n",
              "      <td>12</td>\n",
              "      <td>16</td>\n",
              "      <td>50</td>\n",
              "      <td>saturday</td>\n",
              "      <td>False</td>\n",
              "      <td>26</td>\n",
              "    </tr>\n",
              "  </tbody>\n",
              "</table>\n",
              "</div>"
            ],
            "text/plain": [
              "    name        DoB  year  month  day  week day_of_week  leapyear  age\n",
              "0    Tom 1997-08-05  1997      8    5    32     tuesday     False   24\n",
              "1   Andy 1996-04-28  1996      4   28    17      sunday      True   25\n",
              "2  Lucas 1995-12-16  1995     12   16    50    saturday     False   26"
            ]
          },
          "metadata": {
            "tags": []
          },
          "execution_count": 101
        }
      ]
    },
    {
      "cell_type": "code",
      "metadata": {
        "id": "Tm73PgY6IVgm"
      },
      "source": [
        "b_md = df['DoB'].apply(lambda x: (x.month,x.day) )"
      ],
      "execution_count": 102,
      "outputs": []
    },
    {
      "cell_type": "code",
      "metadata": {
        "colab": {
          "base_uri": "https://localhost:8080/"
        },
        "id": "eC4W5hQuIn7r",
        "outputId": "754b5984-6029-423a-d620-821beacc142d"
      },
      "source": [
        "b_md"
      ],
      "execution_count": 103,
      "outputs": [
        {
          "output_type": "execute_result",
          "data": {
            "text/plain": [
              "0      (8, 5)\n",
              "1     (4, 28)\n",
              "2    (12, 16)\n",
              "Name: DoB, dtype: object"
            ]
          },
          "metadata": {
            "tags": []
          },
          "execution_count": 103
        }
      ]
    },
    {
      "cell_type": "code",
      "metadata": {
        "id": "_JJ3o1cEIou0"
      },
      "source": [
        "no_birthday = b_md > (today.month,today.day)"
      ],
      "execution_count": 104,
      "outputs": []
    },
    {
      "cell_type": "code",
      "metadata": {
        "colab": {
          "base_uri": "https://localhost:8080/"
        },
        "id": "XUaDmO3QIwPt",
        "outputId": "7c72f949-879f-423e-bee0-7a6a9f624846"
      },
      "source": [
        "no_birthday"
      ],
      "execution_count": 105,
      "outputs": [
        {
          "output_type": "execute_result",
          "data": {
            "text/plain": [
              "0     True\n",
              "1    False\n",
              "2     True\n",
              "Name: DoB, dtype: bool"
            ]
          },
          "metadata": {
            "tags": []
          },
          "execution_count": 105
        }
      ]
    },
    {
      "cell_type": "code",
      "metadata": {
        "colab": {
          "base_uri": "https://localhost:8080/",
          "height": 35
        },
        "id": "bYJhbaRyI1BH",
        "outputId": "a8f5c4d0-3206-468f-f6d7-c05735ecc55c"
      },
      "source": [
        "#improve performance by setting datetime as index\n",
        "#most of the time we select dates\n",
        "'''\n",
        "condition=df['date']>start_date & df['date]<end_date\n",
        "df.loc[condition]'''"
      ],
      "execution_count": 107,
      "outputs": [
        {
          "output_type": "execute_result",
          "data": {
            "application/vnd.google.colaboratory.intrinsic+json": {
              "type": "string"
            },
            "text/plain": [
              "\"\\ncondition=df['date']>start_date & df['date]<end_date\\ndf.loc[condition]\""
            ]
          },
          "metadata": {
            "tags": []
          },
          "execution_count": 107
        }
      ]
    },
    {
      "cell_type": "code",
      "metadata": {
        "id": "KLLgFSxSI9-n"
      },
      "source": [
        "#instead we can make use of index for optimization\n",
        "'''df=df.set_index['date']\n",
        "selectiong specific year\n",
        "df.loc['2018]\n"
      ],
      "execution_count": null,
      "outputs": []
    },
    {
      "cell_type": "code",
      "metadata": {
        "id": "8vqsVAidKgwn"
      },
      "source": [
        "data.set_index('time',inplace=True)"
      ],
      "execution_count": 112,
      "outputs": []
    },
    {
      "cell_type": "code",
      "metadata": {
        "colab": {
          "base_uri": "https://localhost:8080/",
          "height": 690
        },
        "id": "aXX0nJnjKhKp",
        "outputId": "e9073350-fad6-4508-8fbf-135580cb3137"
      },
      "source": [
        "data"
      ],
      "execution_count": 111,
      "outputs": [
        {
          "output_type": "execute_result",
          "data": {
            "text/html": [
              "<div>\n",
              "<style scoped>\n",
              "    .dataframe tbody tr th:only-of-type {\n",
              "        vertical-align: middle;\n",
              "    }\n",
              "\n",
              "    .dataframe tbody tr th {\n",
              "        vertical-align: top;\n",
              "    }\n",
              "\n",
              "    .dataframe thead th {\n",
              "        text-align: right;\n",
              "    }\n",
              "</style>\n",
              "<table border=\"1\" class=\"dataframe\">\n",
              "  <thead>\n",
              "    <tr style=\"text-align: right;\">\n",
              "      <th></th>\n",
              "      <th>time</th>\n",
              "      <th>latitude</th>\n",
              "      <th>longitude</th>\n",
              "      <th>depth</th>\n",
              "      <th>mag</th>\n",
              "      <th>magType</th>\n",
              "      <th>nst</th>\n",
              "      <th>gap</th>\n",
              "      <th>dmin</th>\n",
              "      <th>rms</th>\n",
              "      <th>net</th>\n",
              "      <th>id</th>\n",
              "      <th>updated</th>\n",
              "      <th>place</th>\n",
              "      <th>type</th>\n",
              "      <th>horizontalError</th>\n",
              "      <th>depthError</th>\n",
              "      <th>magError</th>\n",
              "      <th>magNst</th>\n",
              "      <th>status</th>\n",
              "      <th>locationSource</th>\n",
              "      <th>magSource</th>\n",
              "    </tr>\n",
              "  </thead>\n",
              "  <tbody>\n",
              "    <tr>\n",
              "      <th>0</th>\n",
              "      <td>2004-01-01 00:03:08.950000+00:00</td>\n",
              "      <td>-24.582</td>\n",
              "      <td>-179.970</td>\n",
              "      <td>488.9</td>\n",
              "      <td>4.7</td>\n",
              "      <td>mb</td>\n",
              "      <td>42.0</td>\n",
              "      <td>119.2</td>\n",
              "      <td>NaN</td>\n",
              "      <td>0.96</td>\n",
              "      <td>us</td>\n",
              "      <td>usp000cgpf</td>\n",
              "      <td>2014-11-07T01:20:53.041Z</td>\n",
              "      <td>south of the Fiji Islands</td>\n",
              "      <td>earthquake</td>\n",
              "      <td>NaN</td>\n",
              "      <td>20.2</td>\n",
              "      <td>NaN</td>\n",
              "      <td>21.0</td>\n",
              "      <td>reviewed</td>\n",
              "      <td>us</td>\n",
              "      <td>us</td>\n",
              "    </tr>\n",
              "    <tr>\n",
              "      <th>1</th>\n",
              "      <td>2004-01-01 01:41:50.700000+00:00</td>\n",
              "      <td>47.034</td>\n",
              "      <td>154.071</td>\n",
              "      <td>40.0</td>\n",
              "      <td>5.0</td>\n",
              "      <td>mwc</td>\n",
              "      <td>204.0</td>\n",
              "      <td>132.8</td>\n",
              "      <td>NaN</td>\n",
              "      <td>0.84</td>\n",
              "      <td>us</td>\n",
              "      <td>usp000cgpw</td>\n",
              "      <td>2016-11-10T00:22:16.158Z</td>\n",
              "      <td>Kuril Islands</td>\n",
              "      <td>earthquake</td>\n",
              "      <td>NaN</td>\n",
              "      <td>NaN</td>\n",
              "      <td>NaN</td>\n",
              "      <td>NaN</td>\n",
              "      <td>reviewed</td>\n",
              "      <td>us</td>\n",
              "      <td>hrv</td>\n",
              "    </tr>\n",
              "    <tr>\n",
              "      <th>2</th>\n",
              "      <td>2004-01-01 03:15:21.140000+00:00</td>\n",
              "      <td>23.315</td>\n",
              "      <td>121.613</td>\n",
              "      <td>54.5</td>\n",
              "      <td>5.2</td>\n",
              "      <td>mwc</td>\n",
              "      <td>164.0</td>\n",
              "      <td>55.2</td>\n",
              "      <td>NaN</td>\n",
              "      <td>0.91</td>\n",
              "      <td>us</td>\n",
              "      <td>usp000cgq2</td>\n",
              "      <td>2016-11-10T00:22:16.667Z</td>\n",
              "      <td>Taiwan</td>\n",
              "      <td>earthquake</td>\n",
              "      <td>NaN</td>\n",
              "      <td>6.1</td>\n",
              "      <td>NaN</td>\n",
              "      <td>NaN</td>\n",
              "      <td>reviewed</td>\n",
              "      <td>us</td>\n",
              "      <td>hrv</td>\n",
              "    </tr>\n",
              "    <tr>\n",
              "      <th>3</th>\n",
              "      <td>2004-01-01 04:39:12.150000+00:00</td>\n",
              "      <td>-21.476</td>\n",
              "      <td>169.859</td>\n",
              "      <td>10.0</td>\n",
              "      <td>5.5</td>\n",
              "      <td>mwc</td>\n",
              "      <td>102.0</td>\n",
              "      <td>99.6</td>\n",
              "      <td>NaN</td>\n",
              "      <td>0.97</td>\n",
              "      <td>us</td>\n",
              "      <td>usp000cgq5</td>\n",
              "      <td>2016-11-10T00:22:17.161Z</td>\n",
              "      <td>southeast of the Loyalty Islands</td>\n",
              "      <td>earthquake</td>\n",
              "      <td>NaN</td>\n",
              "      <td>NaN</td>\n",
              "      <td>NaN</td>\n",
              "      <td>NaN</td>\n",
              "      <td>reviewed</td>\n",
              "      <td>us</td>\n",
              "      <td>hrv</td>\n",
              "    </tr>\n",
              "    <tr>\n",
              "      <th>4</th>\n",
              "      <td>2004-01-01 05:59:01.120000+00:00</td>\n",
              "      <td>46.999</td>\n",
              "      <td>154.188</td>\n",
              "      <td>44.9</td>\n",
              "      <td>5.2</td>\n",
              "      <td>mwc</td>\n",
              "      <td>233.0</td>\n",
              "      <td>135.3</td>\n",
              "      <td>NaN</td>\n",
              "      <td>0.85</td>\n",
              "      <td>us</td>\n",
              "      <td>usp000cgqd</td>\n",
              "      <td>2016-11-10T00:22:17.649Z</td>\n",
              "      <td>east of the Kuril Islands</td>\n",
              "      <td>earthquake</td>\n",
              "      <td>NaN</td>\n",
              "      <td>10.3</td>\n",
              "      <td>NaN</td>\n",
              "      <td>NaN</td>\n",
              "      <td>reviewed</td>\n",
              "      <td>us</td>\n",
              "      <td>hrv</td>\n",
              "    </tr>\n",
              "    <tr>\n",
              "      <th>...</th>\n",
              "      <td>...</td>\n",
              "      <td>...</td>\n",
              "      <td>...</td>\n",
              "      <td>...</td>\n",
              "      <td>...</td>\n",
              "      <td>...</td>\n",
              "      <td>...</td>\n",
              "      <td>...</td>\n",
              "      <td>...</td>\n",
              "      <td>...</td>\n",
              "      <td>...</td>\n",
              "      <td>...</td>\n",
              "      <td>...</td>\n",
              "      <td>...</td>\n",
              "      <td>...</td>\n",
              "      <td>...</td>\n",
              "      <td>...</td>\n",
              "      <td>...</td>\n",
              "      <td>...</td>\n",
              "      <td>...</td>\n",
              "      <td>...</td>\n",
              "      <td>...</td>\n",
              "    </tr>\n",
              "    <tr>\n",
              "      <th>28402</th>\n",
              "      <td>2007-12-31 17:07:21.010000+00:00</td>\n",
              "      <td>-24.327</td>\n",
              "      <td>-179.983</td>\n",
              "      <td>509.0</td>\n",
              "      <td>4.8</td>\n",
              "      <td>mb</td>\n",
              "      <td>45.0</td>\n",
              "      <td>76.1</td>\n",
              "      <td>NaN</td>\n",
              "      <td>0.87</td>\n",
              "      <td>us</td>\n",
              "      <td>usp000fvr1</td>\n",
              "      <td>2014-11-07T01:34:31.504Z</td>\n",
              "      <td>south of the Fiji Islands</td>\n",
              "      <td>earthquake</td>\n",
              "      <td>NaN</td>\n",
              "      <td>9.9</td>\n",
              "      <td>NaN</td>\n",
              "      <td>6.0</td>\n",
              "      <td>reviewed</td>\n",
              "      <td>us</td>\n",
              "      <td>us</td>\n",
              "    </tr>\n",
              "    <tr>\n",
              "      <th>28403</th>\n",
              "      <td>2007-12-31 18:23:36.490000+00:00</td>\n",
              "      <td>41.113</td>\n",
              "      <td>71.944</td>\n",
              "      <td>17.2</td>\n",
              "      <td>5.0</td>\n",
              "      <td>mwc</td>\n",
              "      <td>170.0</td>\n",
              "      <td>47.8</td>\n",
              "      <td>NaN</td>\n",
              "      <td>0.87</td>\n",
              "      <td>us</td>\n",
              "      <td>usp000fvr3</td>\n",
              "      <td>2016-11-10T01:50:14.501Z</td>\n",
              "      <td>eastern Uzbekistan</td>\n",
              "      <td>earthquake</td>\n",
              "      <td>NaN</td>\n",
              "      <td>NaN</td>\n",
              "      <td>NaN</td>\n",
              "      <td>NaN</td>\n",
              "      <td>reviewed</td>\n",
              "      <td>us</td>\n",
              "      <td>gcmt</td>\n",
              "    </tr>\n",
              "    <tr>\n",
              "      <th>28404</th>\n",
              "      <td>2007-12-31 19:26:26.190000+00:00</td>\n",
              "      <td>41.116</td>\n",
              "      <td>71.946</td>\n",
              "      <td>17.3</td>\n",
              "      <td>4.7</td>\n",
              "      <td>mb</td>\n",
              "      <td>118.0</td>\n",
              "      <td>45.9</td>\n",
              "      <td>NaN</td>\n",
              "      <td>0.96</td>\n",
              "      <td>us</td>\n",
              "      <td>usp000fvr6</td>\n",
              "      <td>2014-11-07T01:34:31.616Z</td>\n",
              "      <td>eastern Uzbekistan</td>\n",
              "      <td>earthquake</td>\n",
              "      <td>NaN</td>\n",
              "      <td>NaN</td>\n",
              "      <td>NaN</td>\n",
              "      <td>56.0</td>\n",
              "      <td>reviewed</td>\n",
              "      <td>us</td>\n",
              "      <td>us</td>\n",
              "    </tr>\n",
              "    <tr>\n",
              "      <th>28405</th>\n",
              "      <td>2007-12-31 22:00:29.350000+00:00</td>\n",
              "      <td>13.698</td>\n",
              "      <td>-90.798</td>\n",
              "      <td>65.7</td>\n",
              "      <td>5.0</td>\n",
              "      <td>mwc</td>\n",
              "      <td>160.0</td>\n",
              "      <td>89.6</td>\n",
              "      <td>NaN</td>\n",
              "      <td>1.02</td>\n",
              "      <td>us</td>\n",
              "      <td>usp000fvrb</td>\n",
              "      <td>2016-11-10T01:50:15.024Z</td>\n",
              "      <td>offshore Guatemala</td>\n",
              "      <td>earthquake</td>\n",
              "      <td>NaN</td>\n",
              "      <td>5.5</td>\n",
              "      <td>NaN</td>\n",
              "      <td>NaN</td>\n",
              "      <td>reviewed</td>\n",
              "      <td>us</td>\n",
              "      <td>gcmt</td>\n",
              "    </tr>\n",
              "    <tr>\n",
              "      <th>28406</th>\n",
              "      <td>2007-12-31 23:43:14.100000+00:00</td>\n",
              "      <td>-25.848</td>\n",
              "      <td>179.640</td>\n",
              "      <td>491.9</td>\n",
              "      <td>4.6</td>\n",
              "      <td>mb</td>\n",
              "      <td>35.0</td>\n",
              "      <td>76.1</td>\n",
              "      <td>NaN</td>\n",
              "      <td>0.91</td>\n",
              "      <td>us</td>\n",
              "      <td>usp000fvrd</td>\n",
              "      <td>2014-11-07T01:34:31.655Z</td>\n",
              "      <td>south of the Fiji Islands</td>\n",
              "      <td>earthquake</td>\n",
              "      <td>NaN</td>\n",
              "      <td>7.8</td>\n",
              "      <td>NaN</td>\n",
              "      <td>9.0</td>\n",
              "      <td>reviewed</td>\n",
              "      <td>us</td>\n",
              "      <td>us</td>\n",
              "    </tr>\n",
              "  </tbody>\n",
              "</table>\n",
              "<p>28407 rows × 22 columns</p>\n",
              "</div>"
            ],
            "text/plain": [
              "                                  time  latitude  ...  locationSource  magSource\n",
              "0     2004-01-01 00:03:08.950000+00:00   -24.582  ...              us         us\n",
              "1     2004-01-01 01:41:50.700000+00:00    47.034  ...              us        hrv\n",
              "2     2004-01-01 03:15:21.140000+00:00    23.315  ...              us        hrv\n",
              "3     2004-01-01 04:39:12.150000+00:00   -21.476  ...              us        hrv\n",
              "4     2004-01-01 05:59:01.120000+00:00    46.999  ...              us        hrv\n",
              "...                                ...       ...  ...             ...        ...\n",
              "28402 2007-12-31 17:07:21.010000+00:00   -24.327  ...              us         us\n",
              "28403 2007-12-31 18:23:36.490000+00:00    41.113  ...              us       gcmt\n",
              "28404 2007-12-31 19:26:26.190000+00:00    41.116  ...              us         us\n",
              "28405 2007-12-31 22:00:29.350000+00:00    13.698  ...              us       gcmt\n",
              "28406 2007-12-31 23:43:14.100000+00:00   -25.848  ...              us         us\n",
              "\n",
              "[28407 rows x 22 columns]"
            ]
          },
          "metadata": {
            "tags": []
          },
          "execution_count": 111
        }
      ]
    },
    {
      "cell_type": "code",
      "metadata": {
        "colab": {
          "base_uri": "https://localhost:8080/",
          "height": 396
        },
        "id": "6FIyS9uWKnyN",
        "outputId": "91f9e198-82c3-46bc-a4c8-9790a9c2b366"
      },
      "source": [
        "data.head(5)"
      ],
      "execution_count": 113,
      "outputs": [
        {
          "output_type": "execute_result",
          "data": {
            "text/html": [
              "<div>\n",
              "<style scoped>\n",
              "    .dataframe tbody tr th:only-of-type {\n",
              "        vertical-align: middle;\n",
              "    }\n",
              "\n",
              "    .dataframe tbody tr th {\n",
              "        vertical-align: top;\n",
              "    }\n",
              "\n",
              "    .dataframe thead th {\n",
              "        text-align: right;\n",
              "    }\n",
              "</style>\n",
              "<table border=\"1\" class=\"dataframe\">\n",
              "  <thead>\n",
              "    <tr style=\"text-align: right;\">\n",
              "      <th></th>\n",
              "      <th>latitude</th>\n",
              "      <th>longitude</th>\n",
              "      <th>depth</th>\n",
              "      <th>mag</th>\n",
              "      <th>magType</th>\n",
              "      <th>nst</th>\n",
              "      <th>gap</th>\n",
              "      <th>dmin</th>\n",
              "      <th>rms</th>\n",
              "      <th>net</th>\n",
              "      <th>id</th>\n",
              "      <th>updated</th>\n",
              "      <th>place</th>\n",
              "      <th>type</th>\n",
              "      <th>horizontalError</th>\n",
              "      <th>depthError</th>\n",
              "      <th>magError</th>\n",
              "      <th>magNst</th>\n",
              "      <th>status</th>\n",
              "      <th>locationSource</th>\n",
              "      <th>magSource</th>\n",
              "    </tr>\n",
              "    <tr>\n",
              "      <th>time</th>\n",
              "      <th></th>\n",
              "      <th></th>\n",
              "      <th></th>\n",
              "      <th></th>\n",
              "      <th></th>\n",
              "      <th></th>\n",
              "      <th></th>\n",
              "      <th></th>\n",
              "      <th></th>\n",
              "      <th></th>\n",
              "      <th></th>\n",
              "      <th></th>\n",
              "      <th></th>\n",
              "      <th></th>\n",
              "      <th></th>\n",
              "      <th></th>\n",
              "      <th></th>\n",
              "      <th></th>\n",
              "      <th></th>\n",
              "      <th></th>\n",
              "      <th></th>\n",
              "    </tr>\n",
              "  </thead>\n",
              "  <tbody>\n",
              "    <tr>\n",
              "      <th>2004-01-01 00:03:08.950000+00:00</th>\n",
              "      <td>-24.582</td>\n",
              "      <td>-179.970</td>\n",
              "      <td>488.9</td>\n",
              "      <td>4.7</td>\n",
              "      <td>mb</td>\n",
              "      <td>42.0</td>\n",
              "      <td>119.2</td>\n",
              "      <td>NaN</td>\n",
              "      <td>0.96</td>\n",
              "      <td>us</td>\n",
              "      <td>usp000cgpf</td>\n",
              "      <td>2014-11-07T01:20:53.041Z</td>\n",
              "      <td>south of the Fiji Islands</td>\n",
              "      <td>earthquake</td>\n",
              "      <td>NaN</td>\n",
              "      <td>20.2</td>\n",
              "      <td>NaN</td>\n",
              "      <td>21.0</td>\n",
              "      <td>reviewed</td>\n",
              "      <td>us</td>\n",
              "      <td>us</td>\n",
              "    </tr>\n",
              "    <tr>\n",
              "      <th>2004-01-01 01:41:50.700000+00:00</th>\n",
              "      <td>47.034</td>\n",
              "      <td>154.071</td>\n",
              "      <td>40.0</td>\n",
              "      <td>5.0</td>\n",
              "      <td>mwc</td>\n",
              "      <td>204.0</td>\n",
              "      <td>132.8</td>\n",
              "      <td>NaN</td>\n",
              "      <td>0.84</td>\n",
              "      <td>us</td>\n",
              "      <td>usp000cgpw</td>\n",
              "      <td>2016-11-10T00:22:16.158Z</td>\n",
              "      <td>Kuril Islands</td>\n",
              "      <td>earthquake</td>\n",
              "      <td>NaN</td>\n",
              "      <td>NaN</td>\n",
              "      <td>NaN</td>\n",
              "      <td>NaN</td>\n",
              "      <td>reviewed</td>\n",
              "      <td>us</td>\n",
              "      <td>hrv</td>\n",
              "    </tr>\n",
              "    <tr>\n",
              "      <th>2004-01-01 03:15:21.140000+00:00</th>\n",
              "      <td>23.315</td>\n",
              "      <td>121.613</td>\n",
              "      <td>54.5</td>\n",
              "      <td>5.2</td>\n",
              "      <td>mwc</td>\n",
              "      <td>164.0</td>\n",
              "      <td>55.2</td>\n",
              "      <td>NaN</td>\n",
              "      <td>0.91</td>\n",
              "      <td>us</td>\n",
              "      <td>usp000cgq2</td>\n",
              "      <td>2016-11-10T00:22:16.667Z</td>\n",
              "      <td>Taiwan</td>\n",
              "      <td>earthquake</td>\n",
              "      <td>NaN</td>\n",
              "      <td>6.1</td>\n",
              "      <td>NaN</td>\n",
              "      <td>NaN</td>\n",
              "      <td>reviewed</td>\n",
              "      <td>us</td>\n",
              "      <td>hrv</td>\n",
              "    </tr>\n",
              "    <tr>\n",
              "      <th>2004-01-01 04:39:12.150000+00:00</th>\n",
              "      <td>-21.476</td>\n",
              "      <td>169.859</td>\n",
              "      <td>10.0</td>\n",
              "      <td>5.5</td>\n",
              "      <td>mwc</td>\n",
              "      <td>102.0</td>\n",
              "      <td>99.6</td>\n",
              "      <td>NaN</td>\n",
              "      <td>0.97</td>\n",
              "      <td>us</td>\n",
              "      <td>usp000cgq5</td>\n",
              "      <td>2016-11-10T00:22:17.161Z</td>\n",
              "      <td>southeast of the Loyalty Islands</td>\n",
              "      <td>earthquake</td>\n",
              "      <td>NaN</td>\n",
              "      <td>NaN</td>\n",
              "      <td>NaN</td>\n",
              "      <td>NaN</td>\n",
              "      <td>reviewed</td>\n",
              "      <td>us</td>\n",
              "      <td>hrv</td>\n",
              "    </tr>\n",
              "    <tr>\n",
              "      <th>2004-01-01 05:59:01.120000+00:00</th>\n",
              "      <td>46.999</td>\n",
              "      <td>154.188</td>\n",
              "      <td>44.9</td>\n",
              "      <td>5.2</td>\n",
              "      <td>mwc</td>\n",
              "      <td>233.0</td>\n",
              "      <td>135.3</td>\n",
              "      <td>NaN</td>\n",
              "      <td>0.85</td>\n",
              "      <td>us</td>\n",
              "      <td>usp000cgqd</td>\n",
              "      <td>2016-11-10T00:22:17.649Z</td>\n",
              "      <td>east of the Kuril Islands</td>\n",
              "      <td>earthquake</td>\n",
              "      <td>NaN</td>\n",
              "      <td>10.3</td>\n",
              "      <td>NaN</td>\n",
              "      <td>NaN</td>\n",
              "      <td>reviewed</td>\n",
              "      <td>us</td>\n",
              "      <td>hrv</td>\n",
              "    </tr>\n",
              "  </tbody>\n",
              "</table>\n",
              "</div>"
            ],
            "text/plain": [
              "                                  latitude  longitude  ...  locationSource  magSource\n",
              "time                                                   ...                           \n",
              "2004-01-01 00:03:08.950000+00:00   -24.582   -179.970  ...              us         us\n",
              "2004-01-01 01:41:50.700000+00:00    47.034    154.071  ...              us        hrv\n",
              "2004-01-01 03:15:21.140000+00:00    23.315    121.613  ...              us        hrv\n",
              "2004-01-01 04:39:12.150000+00:00   -21.476    169.859  ...              us        hrv\n",
              "2004-01-01 05:59:01.120000+00:00    46.999    154.188  ...              us        hrv\n",
              "\n",
              "[5 rows x 21 columns]"
            ]
          },
          "metadata": {
            "tags": []
          },
          "execution_count": 113
        }
      ]
    },
    {
      "cell_type": "code",
      "metadata": {
        "id": "k32h-hq7KtPb"
      },
      "source": [
        "df=data[['depth']]"
      ],
      "execution_count": 123,
      "outputs": []
    },
    {
      "cell_type": "code",
      "metadata": {
        "colab": {
          "base_uri": "https://localhost:8080/"
        },
        "id": "mXoiNdjqKv7X",
        "outputId": "a6bae144-1c91-4853-d2de-5db9c74afb06"
      },
      "source": [
        "df['3-moving-average']=df['depth'].rolling(3).sum()"
      ],
      "execution_count": 125,
      "outputs": [
        {
          "output_type": "stream",
          "text": [
            "/usr/local/lib/python3.7/dist-packages/ipykernel_launcher.py:1: SettingWithCopyWarning: \n",
            "A value is trying to be set on a copy of a slice from a DataFrame.\n",
            "Try using .loc[row_indexer,col_indexer] = value instead\n",
            "\n",
            "See the caveats in the documentation: https://pandas.pydata.org/pandas-docs/stable/user_guide/indexing.html#returning-a-view-versus-a-copy\n",
            "  \"\"\"Entry point for launching an IPython kernel.\n"
          ],
          "name": "stderr"
        }
      ]
    },
    {
      "cell_type": "code",
      "metadata": {
        "colab": {
          "base_uri": "https://localhost:8080/",
          "height": 225
        },
        "id": "37RDAKTTLjPw",
        "outputId": "6900c147-9e09-47b8-d5de-6236369f9aa1"
      },
      "source": [
        "df.head(5)"
      ],
      "execution_count": 127,
      "outputs": [
        {
          "output_type": "execute_result",
          "data": {
            "text/html": [
              "<div>\n",
              "<style scoped>\n",
              "    .dataframe tbody tr th:only-of-type {\n",
              "        vertical-align: middle;\n",
              "    }\n",
              "\n",
              "    .dataframe tbody tr th {\n",
              "        vertical-align: top;\n",
              "    }\n",
              "\n",
              "    .dataframe thead th {\n",
              "        text-align: right;\n",
              "    }\n",
              "</style>\n",
              "<table border=\"1\" class=\"dataframe\">\n",
              "  <thead>\n",
              "    <tr style=\"text-align: right;\">\n",
              "      <th></th>\n",
              "      <th>depth</th>\n",
              "      <th>3-moving-average</th>\n",
              "    </tr>\n",
              "    <tr>\n",
              "      <th>time</th>\n",
              "      <th></th>\n",
              "      <th></th>\n",
              "    </tr>\n",
              "  </thead>\n",
              "  <tbody>\n",
              "    <tr>\n",
              "      <th>2004-01-01 00:03:08.950000+00:00</th>\n",
              "      <td>488.9</td>\n",
              "      <td>NaN</td>\n",
              "    </tr>\n",
              "    <tr>\n",
              "      <th>2004-01-01 01:41:50.700000+00:00</th>\n",
              "      <td>40.0</td>\n",
              "      <td>NaN</td>\n",
              "    </tr>\n",
              "    <tr>\n",
              "      <th>2004-01-01 03:15:21.140000+00:00</th>\n",
              "      <td>54.5</td>\n",
              "      <td>583.4</td>\n",
              "    </tr>\n",
              "    <tr>\n",
              "      <th>2004-01-01 04:39:12.150000+00:00</th>\n",
              "      <td>10.0</td>\n",
              "      <td>104.5</td>\n",
              "    </tr>\n",
              "    <tr>\n",
              "      <th>2004-01-01 05:59:01.120000+00:00</th>\n",
              "      <td>44.9</td>\n",
              "      <td>109.4</td>\n",
              "    </tr>\n",
              "  </tbody>\n",
              "</table>\n",
              "</div>"
            ],
            "text/plain": [
              "                                  depth  3-moving-average\n",
              "time                                                     \n",
              "2004-01-01 00:03:08.950000+00:00  488.9               NaN\n",
              "2004-01-01 01:41:50.700000+00:00   40.0               NaN\n",
              "2004-01-01 03:15:21.140000+00:00   54.5             583.4\n",
              "2004-01-01 04:39:12.150000+00:00   10.0             104.5\n",
              "2004-01-01 05:59:01.120000+00:00   44.9             109.4"
            ]
          },
          "metadata": {
            "tags": []
          },
          "execution_count": 127
        }
      ]
    },
    {
      "cell_type": "code",
      "metadata": {
        "colab": {
          "base_uri": "https://localhost:8080/"
        },
        "id": "Jd2cMhZDL2Al",
        "outputId": "22a457aa-c1ae-49bb-cb45-16a851d2e7c4"
      },
      "source": [
        "df['no_na']=df['3-moving-average'].fillna(method='bfill' )"
      ],
      "execution_count": 133,
      "outputs": [
        {
          "output_type": "stream",
          "text": [
            "/usr/local/lib/python3.7/dist-packages/ipykernel_launcher.py:1: SettingWithCopyWarning: \n",
            "A value is trying to be set on a copy of a slice from a DataFrame.\n",
            "Try using .loc[row_indexer,col_indexer] = value instead\n",
            "\n",
            "See the caveats in the documentation: https://pandas.pydata.org/pandas-docs/stable/user_guide/indexing.html#returning-a-view-versus-a-copy\n",
            "  \"\"\"Entry point for launching an IPython kernel.\n"
          ],
          "name": "stderr"
        }
      ]
    },
    {
      "cell_type": "code",
      "metadata": {
        "colab": {
          "base_uri": "https://localhost:8080/",
          "height": 431
        },
        "id": "krWCLXnfMDA6",
        "outputId": "585d6504-1094-46fe-ff6b-445d5859d68b"
      },
      "source": [
        "df\n"
      ],
      "execution_count": 134,
      "outputs": [
        {
          "output_type": "execute_result",
          "data": {
            "text/html": [
              "<div>\n",
              "<style scoped>\n",
              "    .dataframe tbody tr th:only-of-type {\n",
              "        vertical-align: middle;\n",
              "    }\n",
              "\n",
              "    .dataframe tbody tr th {\n",
              "        vertical-align: top;\n",
              "    }\n",
              "\n",
              "    .dataframe thead th {\n",
              "        text-align: right;\n",
              "    }\n",
              "</style>\n",
              "<table border=\"1\" class=\"dataframe\">\n",
              "  <thead>\n",
              "    <tr style=\"text-align: right;\">\n",
              "      <th></th>\n",
              "      <th>depth</th>\n",
              "      <th>3-moving-average</th>\n",
              "      <th>no_na</th>\n",
              "    </tr>\n",
              "    <tr>\n",
              "      <th>time</th>\n",
              "      <th></th>\n",
              "      <th></th>\n",
              "      <th></th>\n",
              "    </tr>\n",
              "  </thead>\n",
              "  <tbody>\n",
              "    <tr>\n",
              "      <th>2004-01-01 00:03:08.950000+00:00</th>\n",
              "      <td>488.9</td>\n",
              "      <td>NaN</td>\n",
              "      <td>583.4</td>\n",
              "    </tr>\n",
              "    <tr>\n",
              "      <th>2004-01-01 01:41:50.700000+00:00</th>\n",
              "      <td>40.0</td>\n",
              "      <td>NaN</td>\n",
              "      <td>583.4</td>\n",
              "    </tr>\n",
              "    <tr>\n",
              "      <th>2004-01-01 03:15:21.140000+00:00</th>\n",
              "      <td>54.5</td>\n",
              "      <td>583.4</td>\n",
              "      <td>583.4</td>\n",
              "    </tr>\n",
              "    <tr>\n",
              "      <th>2004-01-01 04:39:12.150000+00:00</th>\n",
              "      <td>10.0</td>\n",
              "      <td>104.5</td>\n",
              "      <td>104.5</td>\n",
              "    </tr>\n",
              "    <tr>\n",
              "      <th>2004-01-01 05:59:01.120000+00:00</th>\n",
              "      <td>44.9</td>\n",
              "      <td>109.4</td>\n",
              "      <td>109.4</td>\n",
              "    </tr>\n",
              "    <tr>\n",
              "      <th>...</th>\n",
              "      <td>...</td>\n",
              "      <td>...</td>\n",
              "      <td>...</td>\n",
              "    </tr>\n",
              "    <tr>\n",
              "      <th>2007-12-31 17:07:21.010000+00:00</th>\n",
              "      <td>509.0</td>\n",
              "      <td>934.8</td>\n",
              "      <td>934.8</td>\n",
              "    </tr>\n",
              "    <tr>\n",
              "      <th>2007-12-31 18:23:36.490000+00:00</th>\n",
              "      <td>17.2</td>\n",
              "      <td>892.2</td>\n",
              "      <td>892.2</td>\n",
              "    </tr>\n",
              "    <tr>\n",
              "      <th>2007-12-31 19:26:26.190000+00:00</th>\n",
              "      <td>17.3</td>\n",
              "      <td>543.5</td>\n",
              "      <td>543.5</td>\n",
              "    </tr>\n",
              "    <tr>\n",
              "      <th>2007-12-31 22:00:29.350000+00:00</th>\n",
              "      <td>65.7</td>\n",
              "      <td>100.2</td>\n",
              "      <td>100.2</td>\n",
              "    </tr>\n",
              "    <tr>\n",
              "      <th>2007-12-31 23:43:14.100000+00:00</th>\n",
              "      <td>491.9</td>\n",
              "      <td>574.9</td>\n",
              "      <td>574.9</td>\n",
              "    </tr>\n",
              "  </tbody>\n",
              "</table>\n",
              "<p>28407 rows × 3 columns</p>\n",
              "</div>"
            ],
            "text/plain": [
              "                                  depth  3-moving-average  no_na\n",
              "time                                                            \n",
              "2004-01-01 00:03:08.950000+00:00  488.9               NaN  583.4\n",
              "2004-01-01 01:41:50.700000+00:00   40.0               NaN  583.4\n",
              "2004-01-01 03:15:21.140000+00:00   54.5             583.4  583.4\n",
              "2004-01-01 04:39:12.150000+00:00   10.0             104.5  104.5\n",
              "2004-01-01 05:59:01.120000+00:00   44.9             109.4  109.4\n",
              "...                                 ...               ...    ...\n",
              "2007-12-31 17:07:21.010000+00:00  509.0             934.8  934.8\n",
              "2007-12-31 18:23:36.490000+00:00   17.2             892.2  892.2\n",
              "2007-12-31 19:26:26.190000+00:00   17.3             543.5  543.5\n",
              "2007-12-31 22:00:29.350000+00:00   65.7             100.2  100.2\n",
              "2007-12-31 23:43:14.100000+00:00  491.9             574.9  574.9\n",
              "\n",
              "[28407 rows x 3 columns]"
            ]
          },
          "metadata": {
            "tags": []
          },
          "execution_count": 134
        }
      ]
    },
    {
      "cell_type": "code",
      "metadata": {
        "id": "eKWbPwEqMcN0"
      },
      "source": [
        ""
      ],
      "execution_count": null,
      "outputs": []
    }
  ]
}